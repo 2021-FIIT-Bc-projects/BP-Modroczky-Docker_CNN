{
 "cells": [
  {
   "cell_type": "markdown",
   "metadata": {},
   "source": [
    "# Example using Tensorboard and a simple model"
   ]
  },
  {
   "cell_type": "code",
   "execution_count": null,
   "metadata": {},
   "outputs": [],
   "source": [
    "from tensorflow.keras.preprocessing import image_dataset_from_directory\n",
    "from tensorflow.keras import Sequential\n",
    "from tensorflow.keras.layers import Conv2D, MaxPooling2D, Flatten, Dense, Rescaling\n",
    "from tensorflow.keras.optimizers import SGD\n",
    "from tensorflow.keras.losses import BinaryCrossentropy\n",
    "from tensorflow.keras.callbacks import TensorBoard\n",
    "from pathlib import Path\n",
    "from datetime import datetime\n",
    "import matplotlib.pyplot as plt\n",
    "import pandas as pd"
   ]
  },
  {
   "cell_type": "markdown",
   "metadata": {},
   "source": [
    "## Settings"
   ]
  },
  {
   "cell_type": "code",
   "execution_count": null,
   "metadata": {},
   "outputs": [],
   "source": [
    "batch_size = 2\n",
    "img_size = 64\n",
    "epochs = 20\n",
    "seed = 27\n",
    "validation_split = 0.2\n",
    "\n",
    "wd = Path('../../..')\n",
    "dataset_path = Path(wd, 'data/dataset_example')\n",
    "train_path = Path(dataset_path, \"train\")\n",
    "test_path = Path(dataset_path, \"test\")\n",
    "model_path =  Path(wd, \"models/example_cnn.h5\")\n",
    "plots_path = Path(wd, \"plots\")\n",
    "log_dir = Path(wd, \"logs\", datetime.now().strftime(\"%Y%m%d-%H%M%S\"))\n",
    "\n",
    "class_names = ['amanita', 'boletus']"
   ]
  },
  {
   "cell_type": "markdown",
   "metadata": {},
   "source": [
    "## Load data"
   ]
  },
  {
   "cell_type": "code",
   "execution_count": null,
   "metadata": {},
   "outputs": [],
   "source": [
    "training_data = image_dataset_from_directory(\n",
    "    directory=train_path,\n",
    "    validation_split=validation_split,\n",
    "    subset='training',\n",
    "    labels='inferred',\n",
    "    class_names=class_names,\n",
    "    label_mode='binary',\n",
    "    batch_size=batch_size,\n",
    "    image_size=(img_size, img_size),\n",
    "    seed=seed,\n",
    "    shuffle=True\n",
    ")\n",
    "\n",
    "validation_data = image_dataset_from_directory(\n",
    "    directory=train_path,\n",
    "    validation_split=validation_split,\n",
    "    subset='validation',\n",
    "    labels='inferred',\n",
    "    class_names=class_names,\n",
    "    label_mode='binary',\n",
    "    batch_size=batch_size,\n",
    "    image_size=(img_size, img_size),\n",
    "    seed=seed,\n",
    "    shuffle=True\n",
    ")\n",
    "\n",
    "test_data = image_dataset_from_directory(\n",
    "    directory=test_path,\n",
    "    labels='inferred',\n",
    "    class_names=class_names,\n",
    "    label_mode='binary',\n",
    "    batch_size=batch_size,\n",
    "    image_size=(img_size, img_size),\n",
    "    seed=seed,\n",
    "    shuffle=True\n",
    ")"
   ]
  },
  {
   "cell_type": "markdown",
   "metadata": {},
   "source": [
    "## Define model"
   ]
  },
  {
   "cell_type": "code",
   "execution_count": null,
   "metadata": {},
   "outputs": [],
   "source": [
    "model = Sequential([\n",
    "    Rescaling(\n",
    "        scale=1./255,\n",
    "        input_shape=(img_size, img_size, 3)\n",
    "    ),\n",
    "    Conv2D(\n",
    "        filters=64,\n",
    "        kernel_size=(3, 3),\n",
    "        padding='same',\n",
    "        activation='relu'\n",
    "    ),\n",
    "    MaxPooling2D(\n",
    "        pool_size=(2, 2),\n",
    "        strides=(2, 2)\n",
    "    ),\n",
    "    Conv2D(\n",
    "        filters=64,\n",
    "        kernel_size=(3, 3),\n",
    "        padding='same',\n",
    "        activation='relu'\n",
    "    ),\n",
    "    MaxPooling2D(\n",
    "        pool_size=(2, 2),\n",
    "        strides=(2, 2)\n",
    "    ),\n",
    "    Conv2D(\n",
    "        filters=256,\n",
    "        kernel_size=(3, 3),\n",
    "        padding='same',\n",
    "        activation='relu'\n",
    "    ),\n",
    "    MaxPooling2D(\n",
    "        pool_size=(2, 2),\n",
    "        strides=(2, 2)\n",
    "    ),\n",
    "    Flatten(),\n",
    "    Dense(\n",
    "        units=2048,\n",
    "        activation='relu'\n",
    "    ),\n",
    "    Dense(\n",
    "        units=512,\n",
    "        activation='relu'\n",
    "    ),\n",
    "    Dense(\n",
    "        units=1,\n",
    "        activation='sigmoid'\n",
    "    )\n",
    "])"
   ]
  },
  {
   "cell_type": "markdown",
   "metadata": {},
   "source": [
    "## Compile model"
   ]
  },
  {
   "cell_type": "code",
   "execution_count": null,
   "metadata": {},
   "outputs": [],
   "source": [
    "model.compile(\n",
    "    optimizer=SGD(),\n",
    "    loss=BinaryCrossentropy(),\n",
    "    metrics=['accuracy']\n",
    ")"
   ]
  },
  {
   "cell_type": "markdown",
   "metadata": {},
   "source": [
    "## Define Tensorboard callback"
   ]
  },
  {
   "cell_type": "code",
   "execution_count": null,
   "metadata": {},
   "outputs": [],
   "source": [
    "tensorboard_callback = TensorBoard(\n",
    "    log_dir=log_dir,\n",
    "    histogram_freq=1\n",
    ")"
   ]
  },
  {
   "cell_type": "markdown",
   "metadata": {},
   "source": [
    "## Train model"
   ]
  },
  {
   "cell_type": "code",
   "execution_count": null,
   "metadata": {},
   "outputs": [],
   "source": [
    "history = model.fit(\n",
    "    training_data,\n",
    "    validation_data=validation_data,\n",
    "    epochs=epochs,\n",
    "    callbacks=[tensorboard_callback]\n",
    ")"
   ]
  },
  {
   "cell_type": "markdown",
   "metadata": {},
   "source": [
    "## Save model"
   ]
  },
  {
   "cell_type": "code",
   "execution_count": null,
   "metadata": {},
   "outputs": [],
   "source": [
    "model.save(model_path)"
   ]
  },
  {
   "cell_type": "markdown",
   "metadata": {},
   "source": [
    "## Accuracy and loss plot for training and validation"
   ]
  },
  {
   "cell_type": "code",
   "execution_count": null,
   "metadata": {},
   "outputs": [],
   "source": [
    "metrics_df = pd.DataFrame(history.history)"
   ]
  },
  {
   "cell_type": "code",
   "execution_count": null,
   "metadata": {},
   "outputs": [],
   "source": [
    "metrics_df[[\"accuracy\", \"val_accuracy\"]].plot()\n",
    "plt.title('Training and Validation Accuracy')\n",
    "plt.savefig(Path(plots_path, 'accuracy.png'))\n",
    "plt.show()"
   ]
  },
  {
   "cell_type": "code",
   "execution_count": null,
   "metadata": {},
   "outputs": [],
   "source": [
    "metrics_df[[\"loss\", \"val_loss\"]].plot()\n",
    "plt.title('Training and Validation Loss')\n",
    "plt.savefig(Path(plots_path, 'loss.png'))\n",
    "plt.show()"
   ]
  },
  {
   "cell_type": "markdown",
   "metadata": {},
   "source": [
    "## Evaluate model"
   ]
  },
  {
   "cell_type": "code",
   "execution_count": null,
   "metadata": {},
   "outputs": [],
   "source": [
    "model.evaluate(test_data)"
   ]
  }
 ],
 "metadata": {
  "interpreter": {
   "hash": "e90f3f69ec7adf3dff236f955b40ad5a2ade316e683f91685d8c831fab9a0129"
  },
  "kernelspec": {
   "display_name": "Python 3 (ipykernel)",
   "language": "python",
   "name": "python3"
  },
  "language_info": {
   "codemirror_mode": {
    "name": "ipython",
    "version": 3
   },
   "file_extension": ".py",
   "mimetype": "text/x-python",
   "name": "python",
   "nbconvert_exporter": "python",
   "pygments_lexer": "ipython3",
   "version": "3.8.0"
  }
 },
 "nbformat": 4,
 "nbformat_minor": 2
}
